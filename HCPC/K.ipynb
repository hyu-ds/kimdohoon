{
 "cells": [
  {
   "cell_type": "code",
   "execution_count": 1,
   "metadata": {},
   "outputs": [],
   "source": [
    "#1"
   ]
  },
  {
   "cell_type": "code",
   "execution_count": null,
   "metadata": {},
   "outputs": [],
   "source": [
    "#2\n",
    "class node:\n",
    "    def __init__(self):\n",
    "        self.dir = { 1 : [], 2 : [], 3 : [], 4 : []}\n",
    "    def to_(self, from_, to):\n",
    "        self.dir[from_].append(to)\n",
    "\n",
    "N, M = map(int, input().split())\n",
    "nara = [node() for _ in range(N)]\n",
    "for _ in range(M):\n",
    "    v, w = map(int, input().split())\n",
    "    nara[v-1].to_(v, w)\n",
    "\n",
    "visited = []\n",
    "for i in range(1, N+1):\n",
    "    for j in range(M):\n",
    "        if nara[i][j] == []:\n",
    "            pass\n",
    "        else:\n",
    "            to_visit = nara[i][j].pop()\n"
   ]
  },
  {
   "cell_type": "code",
   "execution_count": null,
   "metadata": {},
   "outputs": [],
   "source": [
    "#3"
   ]
  },
  {
   "cell_type": "code",
   "execution_count": null,
   "metadata": {},
   "outputs": [],
   "source": [
    "# F\n",
    "\n",
    "times = int(input())\n",
    "lst = []\n",
    "for _ in range(times):\n",
    "    a, b, c = input().split()\n",
    "    lst.append({b : [a,c]})\n",
    "\n",
    "indexes = sorted(lst)\n",
    "str_ = \"\"\n",
    "for i in indexes:\n",
    "    str_ += lst[i][a][c]\n",
    "print(str_)"
   ]
  },
  {
   "cell_type": "code",
   "execution_count": 3,
   "metadata": {},
   "outputs": [
    {
     "ename": "ValueError",
     "evalue": "invalid literal for int() with base 10: 'dsfdasfds'",
     "output_type": "error",
     "traceback": [
      "\u001b[0;31m---------------------------------------------------------------------------\u001b[0m",
      "\u001b[0;31mValueError\u001b[0m                                Traceback (most recent call last)",
      "\u001b[1;32m/Users/tt/Documents/Programming Files/Baekjoon/HCPC/K.ipynb 셀 5\u001b[0m in \u001b[0;36m<cell line: 1>\u001b[0;34m()\u001b[0m\n\u001b[0;32m----> <a href='vscode-notebook-cell:/Users/tt/Documents/Programming%20Files/Baekjoon/HCPC/K.ipynb#W5sZmlsZQ%3D%3D?line=0'>1</a>\u001b[0m case \u001b[39m=\u001b[39m \u001b[39mint\u001b[39;49m(\u001b[39minput\u001b[39;49m())\n\u001b[1;32m      <a href='vscode-notebook-cell:/Users/tt/Documents/Programming%20Files/Baekjoon/HCPC/K.ipynb#W5sZmlsZQ%3D%3D?line=1'>2</a>\u001b[0m top \u001b[39m=\u001b[39m \u001b[39mmap\u001b[39m(\u001b[39mint\u001b[39m, \u001b[39minput\u001b[39m()\u001b[39m.\u001b[39msplit())\n\u001b[1;32m      <a href='vscode-notebook-cell:/Users/tt/Documents/Programming%20Files/Baekjoon/HCPC/K.ipynb#W5sZmlsZQ%3D%3D?line=2'>3</a>\u001b[0m bottom \u001b[39m=\u001b[39m \u001b[39mmap\u001b[39m(\u001b[39mint\u001b[39m, \u001b[39minput\u001b[39m()\u001b[39m.\u001b[39msplit())\n",
      "\u001b[0;31mValueError\u001b[0m: invalid literal for int() with base 10: 'dsfdasfds'"
     ]
    }
   ],
   "source": [
    "case = int(input())\n",
    "top = map(int, input().split())\n",
    "bottom = map(int, input().split())\n",
    "height = []\n",
    "\n",
    "for i in range(case):\n",
    "    height.append(top[i]-bottom[i])\n",
    "\n",
    "bird = int(input())\n",
    "size = input().split()\n",
    "size = [int(i) for i in size]\n",
    "for i in size:\n",
    "    score = 0\n",
    "    while True:\n",
    "        if i <= height[score]:\n",
    "            score += 1\n",
    "        else:\n",
    "            print(score)\n",
    "            break"
   ]
  }
 ],
 "metadata": {
  "kernelspec": {
   "display_name": "Python 3.8.13 ('ds')",
   "language": "python",
   "name": "python3"
  },
  "language_info": {
   "codemirror_mode": {
    "name": "ipython",
    "version": 3
   },
   "file_extension": ".py",
   "mimetype": "text/x-python",
   "name": "python",
   "nbconvert_exporter": "python",
   "pygments_lexer": "ipython3",
   "version": "3.8.13"
  },
  "orig_nbformat": 4,
  "vscode": {
   "interpreter": {
    "hash": "6a2ab8426269d42ee9fba94d9eb5b0a8b7f95b47bc074ef128370580d7ae2931"
   }
  }
 },
 "nbformat": 4,
 "nbformat_minor": 2
}
