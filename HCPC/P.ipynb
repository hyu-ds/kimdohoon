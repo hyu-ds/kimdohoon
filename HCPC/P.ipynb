{
 "cells": [
  {
   "cell_type": "code",
   "execution_count": 1,
   "metadata": {},
   "outputs": [],
   "source": [
    "#1"
   ]
  },
  {
   "cell_type": "code",
   "execution_count": null,
   "metadata": {},
   "outputs": [],
   "source": [
    "#2"
   ]
  },
  {
   "cell_type": "code",
   "execution_count": 14,
   "metadata": {},
   "outputs": [
    {
     "ename": "SyntaxError",
     "evalue": "invalid syntax (80609296.py, line 13)",
     "output_type": "error",
     "traceback": [
      "\u001b[0;36m  Input \u001b[0;32mIn [14]\u001b[0;36m\u001b[0m\n\u001b[0;31m    Tminus+=\u001b[0m\n\u001b[0m            ^\u001b[0m\n\u001b[0;31mSyntaxError\u001b[0m\u001b[0;31m:\u001b[0m invalid syntax\n"
     ]
    }
   ],
   "source": [
    "#3\n",
    "N, M = [i for i in map(int, input().split())]\n",
    "S = [i for i in map(int, input().split())]\n",
    "T = []\n",
    "for i in range(N):\n",
    "    k=input().split()\n",
    "    k = [int(i) for i in k]\n",
    "    T.append(k)\n",
    "\n",
    "Tminus=0\n",
    "Tplus=0\n",
    "total=[]\n",
    "for i in range(N):\n",
    "    for j in range(N+M):\n",
    "        Tminus+=T[i][j]\n",
    "\n",
    "    t=S[i]-Tminus\n",
    "    total.append(t)\n",
    "\n",
    "print(N,M)\n",
    "print(S)\n",
    "print(T)\n",
    "print(T[1][1])"
   ]
  },
  {
   "cell_type": "code",
   "execution_count": null,
   "metadata": {},
   "outputs": [],
   "source": []
  }
 ],
 "metadata": {
  "kernelspec": {
   "display_name": "Python 3.8.13 ('ds')",
   "language": "python",
   "name": "python3"
  },
  "language_info": {
   "codemirror_mode": {
    "name": "ipython",
    "version": 3
   },
   "file_extension": ".py",
   "mimetype": "text/x-python",
   "name": "python",
   "nbconvert_exporter": "python",
   "pygments_lexer": "ipython3",
   "version": "3.8.13"
  },
  "orig_nbformat": 4,
  "vscode": {
   "interpreter": {
    "hash": "6a2ab8426269d42ee9fba94d9eb5b0a8b7f95b47bc074ef128370580d7ae2931"
   }
  }
 },
 "nbformat": 4,
 "nbformat_minor": 2
}
